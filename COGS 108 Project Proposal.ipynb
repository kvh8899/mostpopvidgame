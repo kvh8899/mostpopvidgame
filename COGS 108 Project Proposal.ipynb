{
 "cells": [
  {
   "cell_type": "markdown",
   "metadata": {},
   "source": [
    "<h1>COGS 108 - Final Project Proposal</h1>"
   ]
  },
  {
   "cell_type": "markdown",
   "metadata": {},
   "source": [
    "<h2>Names</h2>"
   ]
  },
  {
   "cell_type": "markdown",
   "metadata": {},
   "source": [
    "- Cary Wang\n",
    "- Derek Tse\n",
    "- Zhaoge Ouyang\n",
    "- Kyle Huang\n"
   ]
  },
  {
   "cell_type": "markdown",
   "metadata": {},
   "source": [
    "<h2>Group Members ID</h2>"
   ]
  },
  {
   "cell_type": "markdown",
   "metadata": {},
   "source": [
    "- A15071719\n",
    "- A14136586\n",
    "- A15405768\n",
    "- A15747306"
   ]
  },
  {
   "cell_type": "markdown",
   "metadata": {},
   "source": [
    "<h2>Research Question</h2>"
   ]
  },
  {
   "cell_type": "markdown",
   "metadata": {},
   "source": [
    "- How has Donald Trump's tweets affected the US stock market? Including the sentiment of his tweets? <br>\n",
    "- And which industries experienced the greatest increase/decrease in stock prices? E.g. does the construction industry experience the greatest increase in stock prices? (such as due to Trump’s promise for a wall)\n"
   ]
  },
  {
   "cell_type": "markdown",
   "metadata": {},
   "source": [
    "<h2>Background and Prior Work</h2>"
   ]
  },
  {
   "cell_type": "markdown",
   "metadata": {},
   "source": [
    "This question is interesting because:\n",
    "1. It is relevant to the political climate that we are currently experiencing at this day and age. \n",
    "2. We can see the impact that influential figures on social media have on individual stocks.\n",
    "3. Can a president’s tweet cause a recession? And what would be the steps that we can take to prevent such a thing from happening? (if it is feasible)\n",
    "4. There is some research specifically about how Donald Trump's tweets affect companies like lockheed martin negatively, as well as foreign exchange markets.\n",
    "5. Elon Musk’s tweet stating that Tesla’s stock price is overvalued ⇒ Tesla’s stock decreased. We want to measure the influence of this type of situation.\n"
   ]
  },
  {
   "cell_type": "markdown",
   "metadata": {},
   "source": [
    "References (include links): <br>\n",
    "1. https://www.nottingham.ac.uk/economics/documents/research-first/krishan-rayarel.pdf \n",
    "2. https://www.athensjournals.gr/business/2018-1-X-Y-Colonescu.pdf\n",
    "3. https://en.wikipedia.org/wiki/Volfefe_index"
   ]
  },
  {
   "cell_type": "markdown",
   "metadata": {},
   "source": [
    "<h2>Hypothesis</h2>"
   ]
  },
  {
   "cell_type": "markdown",
   "metadata": {},
   "source": [
    "The main hypothesis would be that the president’s tweets can greatly influence whether a company does well in the stock market or not. There have been instances where social media influenced the price of stock market shares for a company. For example, when Elon Musk smoked weed on Joe Rogan's podcast, which was posted on various places on the internet, the prices for tesla went down significantly.\n"
   ]
  },
  {
   "cell_type": "markdown",
   "metadata": {},
   "source": [
    "<h2>Data</h2>"
   ]
  },
  {
   "cell_type": "markdown",
   "metadata": {},
   "source": [
    "- Yahoo finance api (yfinance api), alpha vantage api, quandl api, quantopian api, alpaca api, twitter api, \n",
    "- Variables: stock market prices, negative tweets, positive tweets, tweet topics, timestamp (date), media attention(hard to quantify though)\n",
    "- Observations: 2016 - 2019 (1 year of historical data for now; potentially expandable to 3)\n"
   ]
  },
  {
   "cell_type": "markdown",
   "metadata": {},
   "source": [
    "<h2>Ethics & Privacy</h2>"
   ]
  },
  {
   "cell_type": "markdown",
   "metadata": {},
   "source": [
    "We expect to have permission for the data we are going to use because all of the data we will be accessing is public, such as Donald Trump's tweets or stock market prices. Since we will be making use of the Twitter/Yahoo api and scraping for data on their website, we will comply with their terms of service. There are potential biases that could arise when collecting the data. Since we are gathering data about our current president, the data we collect may be influenced by political standing. Data privacy should not be an issue because we are not collecting any personal data from individuals.\n"
   ]
  },
  {
   "cell_type": "markdown",
   "metadata": {},
   "source": [
    "<h2>Team Expectations</h2>"
   ]
  },
  {
   "cell_type": "markdown",
   "metadata": {},
   "source": [
    "- Do yo work on time\n",
    "- Communicate any issues you have with the project\n",
    "- Come to meetings\n"
   ]
  },
  {
   "cell_type": "markdown",
   "metadata": {},
   "source": [
    "<h2>Project Timeline Proposal</h2>"
   ]
  },
  {
   "cell_type": "markdown",
   "metadata": {},
   "source": []
  }
 ],
 "metadata": {
  "kernelspec": {
   "display_name": "Python 3",
   "language": "python",
   "name": "python3"
  },
  "language_info": {
   "codemirror_mode": {
    "name": "ipython",
    "version": 3
   },
   "file_extension": ".py",
   "mimetype": "text/x-python",
   "name": "python",
   "nbconvert_exporter": "python",
   "pygments_lexer": "ipython3",
   "version": "3.8.1"
  }
 },
 "nbformat": 4,
 "nbformat_minor": 4
}

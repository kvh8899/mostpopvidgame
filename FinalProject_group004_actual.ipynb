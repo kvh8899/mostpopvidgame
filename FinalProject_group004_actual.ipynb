{
 "cells": [
  {
   "cell_type": "markdown",
   "metadata": {},
   "source": [
    "# COGS 108 - Final Project "
   ]
  },
  {
   "cell_type": "markdown",
   "metadata": {},
   "source": [
    "## Permissions"
   ]
  },
  {
   "cell_type": "markdown",
   "metadata": {},
   "source": [
    "Place an `X` in the appropriate bracket below to specify if you would like your group's project to be made available to the public. (Note that PIDs will be scraped from the public submission, but student names will be included.)\n",
    "\n",
    "* [  ] YES - make available\n",
    "* [  ] NO - keep private"
   ]
  },
  {
   "cell_type": "markdown",
   "metadata": {},
   "source": [
    "# Overview"
   ]
  },
  {
   "cell_type": "markdown",
   "metadata": {},
   "source": [
    "*Fill in your overview here*"
   ]
  },
  {
   "cell_type": "markdown",
   "metadata": {},
   "source": [
    "# Names\n",
    "\n",
    "- Toland (Venti)\n",
    "- Chongyun (Daiki)\n",
    "- GO\n",
    "- cw"
   ]
  },
  {
   "cell_type": "markdown",
   "metadata": {},
   "source": [
    "# Group Members IDs\n",
    "\n",
    "- A15747306(Kyle)\n",
    "- A14136586\n",
    "- A######## (Gary)\n",
    "- A######## (Cary)"
   ]
  },
  {
   "cell_type": "markdown",
   "metadata": {},
   "source": [
    "# Research Question"
   ]
  },
  {
   "cell_type": "markdown",
   "metadata": {},
   "source": [
    "How does a games genre, merchandise, critic score, online/total players count, player base affect a games popularity and sales?"
   ]
  },
  {
   "cell_type": "markdown",
   "metadata": {},
   "source": [
    "## Background and Prior Work"
   ]
  },
  {
   "cell_type": "markdown",
   "metadata": {},
   "source": [
    "This question is interesting because:\n",
    "We will be able to see the current trends in gaming.\n",
    "When a game is released by a company, the critic score, the company its made by, and the genre can predict how well the game does in the market. These all influence the popularity of a game. So according to these variables, we want to predict how popular a game is and if it is worth playing. Recently some popular games such as among us and Genshin impact have skyrocketed in popularity and sales, so we want to investigate what exactly makes games like this popular so fast.\n",
    "References (include links):\n",
    "- 1)https://citeseerx.ist.psu.edu/viewdoc/download?doi=10.1.1.549.6080&rep=rep1&type=pdf\n",
    "- 2)"
   ]
  },
  {
   "cell_type": "markdown",
   "metadata": {},
   "source": [
    "# Hypothesis\n"
   ]
  },
  {
   "cell_type": "markdown",
   "metadata": {},
   "source": [
    "According to the paper above, adventure games and strategy games are the highest rated genres due to their storylines, graphics, and stimulating gameplay. We expect games that fit this category to have the highest sales, ratings, and playerbase."
   ]
  },
  {
   "cell_type": "markdown",
   "metadata": {},
   "source": [
    "# Dataset(s)"
   ]
  },
  {
   "cell_type": "markdown",
   "metadata": {},
   "source": [
    "*Fill in your dataset information here*\n",
    "\n",
    "(Copy this information for each dataset)\n",
    "- Dataset Name: Metacritic Games Stats 2011-2019\n",
    "- Link to the dataset: https://www.kaggle.com/skateddu/metacritic-games-stats-20112019?select=metacritic_games.csv\n",
    "- Number of observations: 4018\n",
    "\n",
    "1-2 sentences describing each dataset. \n",
    "\n",
    "If you plan to use multiple datasets, add 1-2 sentences about how you plan to combine these datasets."
   ]
  },
  {
   "cell_type": "markdown",
   "metadata": {},
   "source": [
    "*Fill in your dataset information here*\n",
    "\n",
    "(Copy this information for each dataset)\n",
    "- Dataset Name: Video Game Sales\n",
    "- Link to the dataset: https://www.kaggle.com/ashaheedq/video-games-sales-2019?select=vgsales-12-4-2019-short.csv\n",
    "- Number of observations: 37102\n",
    "\n",
    "1-2 sentences describing each dataset. \n",
    "\n",
    "If you plan to use multiple datasets, add 1-2 sentences about how you plan to combine these datasets."
   ]
  },
  {
   "cell_type": "markdown",
   "metadata": {},
   "source": [
    "*Fill in your dataset information here*\n",
    "\n",
    "(Copy this information for each dataset)\n",
    "- Dataset Name: IGN Games of 20 Years\n",
    "- Link to the dataset: https://raw.githubusercontent.com/john7obed/ign_games_of_20_years/master/ign.csv\n",
    "- Number of observations: 18624\n",
    "\n",
    "1-2 sentences describing each dataset. \n",
    "\n",
    "If you plan to use multiple datasets, add 1-2 sentences about how you plan to combine these datasets."
   ]
  },
  {
   "cell_type": "markdown",
   "metadata": {},
   "source": [
    "# Setup"
   ]
  },
  {
   "cell_type": "markdown",
   "metadata": {},
   "source": [
    "Let's begin by importing some packages for analysis."
   ]
  },
  {
   "cell_type": "code",
   "execution_count": 1,
   "metadata": {},
   "outputs": [],
   "source": [
    "%matplotlib inline\n",
    "\n",
    "import pandas as pd\n",
    "import numpy as np\n",
    "import matplotlib.pyplot as plt\n",
    "\n",
    "import seaborn as sns\n",
    "\n",
    "import warnings\n",
    "warnings.filterwarnings('ignore')\n",
    "\n",
    "import patsy\n",
    "import statsmodels.api as sm\n",
    "import scipy.stats as stats\n",
    "from scipy.stats import ttest_ind, chisquare, normaltest"
   ]
  },
  {
   "cell_type": "code",
   "execution_count": 2,
   "metadata": {},
   "outputs": [],
   "source": [
    "# Configure libraries\n",
    "# The seaborn library makes plots look nicer\n",
    "sns.set()\n",
    "sns.set_context('talk')\n",
    "\n",
    "# Don't display too many rows/cols of DataFrames\n",
    "pd.options.display.max_rows = 7\n",
    "pd.options.display.max_columns = 8\n",
    "\n",
    "# Round decimals when displaying DataFrames\n",
    "pd.set_option('precision', 2)"
   ]
  },
  {
   "cell_type": "markdown",
   "metadata": {},
   "source": [
    "Let's also import the 3 datasets listed for the analysis."
   ]
  },
  {
   "cell_type": "code",
   "execution_count": 3,
   "metadata": {},
   "outputs": [],
   "source": [
    "metacritic = pd.read_csv('metacritic_games.csv')\n",
    "ign = pd.read_csv('ign.csv', index_col='Unnamed: 0')\n",
    "vgsales = pd.read_csv('vgsales.csv')"
   ]
  },
  {
   "cell_type": "markdown",
   "metadata": {},
   "source": [
    "To make sure that our data is imported properly:"
   ]
  },
  {
   "cell_type": "code",
   "execution_count": 4,
   "metadata": {},
   "outputs": [
    {
     "data": {
      "text/html": [
       "<div>\n",
       "<style scoped>\n",
       "    .dataframe tbody tr th:only-of-type {\n",
       "        vertical-align: middle;\n",
       "    }\n",
       "\n",
       "    .dataframe tbody tr th {\n",
       "        vertical-align: top;\n",
       "    }\n",
       "\n",
       "    .dataframe thead th {\n",
       "        text-align: right;\n",
       "    }\n",
       "</style>\n",
       "<table border=\"1\" class=\"dataframe\">\n",
       "  <thead>\n",
       "    <tr style=\"text-align: right;\">\n",
       "      <th></th>\n",
       "      <th>game</th>\n",
       "      <th>platform</th>\n",
       "      <th>developer</th>\n",
       "      <th>genre</th>\n",
       "      <th>...</th>\n",
       "      <th>neutral_users</th>\n",
       "      <th>negative_users</th>\n",
       "      <th>metascore</th>\n",
       "      <th>user_score</th>\n",
       "    </tr>\n",
       "  </thead>\n",
       "  <tbody>\n",
       "    <tr>\n",
       "      <th>0</th>\n",
       "      <td>Portal 2</td>\n",
       "      <td>PC</td>\n",
       "      <td>Valve Software</td>\n",
       "      <td>Action</td>\n",
       "      <td>...</td>\n",
       "      <td>107</td>\n",
       "      <td>19</td>\n",
       "      <td>95</td>\n",
       "      <td>90</td>\n",
       "    </tr>\n",
       "    <tr>\n",
       "      <th>1</th>\n",
       "      <td>The Elder Scrolls V: Skyrim</td>\n",
       "      <td>PC</td>\n",
       "      <td>Bethesda Game Studios</td>\n",
       "      <td>Role-Playing</td>\n",
       "      <td>...</td>\n",
       "      <td>322</td>\n",
       "      <td>451</td>\n",
       "      <td>94</td>\n",
       "      <td>82</td>\n",
       "    </tr>\n",
       "    <tr>\n",
       "      <th>2</th>\n",
       "      <td>The Legend of Zelda: Ocarina of Time 3D</td>\n",
       "      <td>3DS</td>\n",
       "      <td>GREZZO</td>\n",
       "      <td>Miscellaneous</td>\n",
       "      <td>...</td>\n",
       "      <td>20</td>\n",
       "      <td>5</td>\n",
       "      <td>94</td>\n",
       "      <td>90</td>\n",
       "    </tr>\n",
       "    <tr>\n",
       "      <th>3</th>\n",
       "      <td>Batman: Arkham City</td>\n",
       "      <td>PC</td>\n",
       "      <td>Rocksteady Studios</td>\n",
       "      <td>Action Adventure</td>\n",
       "      <td>...</td>\n",
       "      <td>34</td>\n",
       "      <td>27</td>\n",
       "      <td>91</td>\n",
       "      <td>87</td>\n",
       "    </tr>\n",
       "    <tr>\n",
       "      <th>4</th>\n",
       "      <td>Super Mario 3D Land</td>\n",
       "      <td>3DS</td>\n",
       "      <td>Nintendo</td>\n",
       "      <td>Action</td>\n",
       "      <td>...</td>\n",
       "      <td>39</td>\n",
       "      <td>11</td>\n",
       "      <td>90</td>\n",
       "      <td>84</td>\n",
       "    </tr>\n",
       "  </tbody>\n",
       "</table>\n",
       "<p>5 rows × 15 columns</p>\n",
       "</div>"
      ],
      "text/plain": [
       "                                      game platform              developer  \\\n",
       "0                                 Portal 2       PC         Valve Software   \n",
       "1              The Elder Scrolls V: Skyrim       PC  Bethesda Game Studios   \n",
       "2  The Legend of Zelda: Ocarina of Time 3D      3DS                 GREZZO   \n",
       "3                      Batman: Arkham City       PC     Rocksteady Studios   \n",
       "4                      Super Mario 3D Land      3DS               Nintendo   \n",
       "\n",
       "              genre  ... neutral_users negative_users metascore  user_score  \n",
       "0            Action  ...           107             19        95          90  \n",
       "1      Role-Playing  ...           322            451        94          82  \n",
       "2     Miscellaneous  ...            20              5        94          90  \n",
       "3  Action Adventure  ...            34             27        91          87  \n",
       "4            Action  ...            39             11        90          84  \n",
       "\n",
       "[5 rows x 15 columns]"
      ]
     },
     "execution_count": 4,
     "metadata": {},
     "output_type": "execute_result"
    }
   ],
   "source": [
    "metacritic.head()"
   ]
  },
  {
   "cell_type": "code",
   "execution_count": 5,
   "metadata": {},
   "outputs": [
    {
     "data": {
      "text/html": [
       "<div>\n",
       "<style scoped>\n",
       "    .dataframe tbody tr th:only-of-type {\n",
       "        vertical-align: middle;\n",
       "    }\n",
       "\n",
       "    .dataframe tbody tr th {\n",
       "        vertical-align: top;\n",
       "    }\n",
       "\n",
       "    .dataframe thead th {\n",
       "        text-align: right;\n",
       "    }\n",
       "</style>\n",
       "<table border=\"1\" class=\"dataframe\">\n",
       "  <thead>\n",
       "    <tr style=\"text-align: right;\">\n",
       "      <th></th>\n",
       "      <th>score_phrase</th>\n",
       "      <th>title</th>\n",
       "      <th>url</th>\n",
       "      <th>platform</th>\n",
       "      <th>...</th>\n",
       "      <th>editors_choice</th>\n",
       "      <th>release_year</th>\n",
       "      <th>release_month</th>\n",
       "      <th>release_day</th>\n",
       "    </tr>\n",
       "  </thead>\n",
       "  <tbody>\n",
       "    <tr>\n",
       "      <th>0</th>\n",
       "      <td>Amazing</td>\n",
       "      <td>LittleBigPlanet PS Vita</td>\n",
       "      <td>/games/littlebigplanet-vita/vita-98907</td>\n",
       "      <td>PlayStation Vita</td>\n",
       "      <td>...</td>\n",
       "      <td>Y</td>\n",
       "      <td>2012</td>\n",
       "      <td>9</td>\n",
       "      <td>12</td>\n",
       "    </tr>\n",
       "    <tr>\n",
       "      <th>1</th>\n",
       "      <td>Amazing</td>\n",
       "      <td>LittleBigPlanet PS Vita -- Marvel Super Hero E...</td>\n",
       "      <td>/games/littlebigplanet-ps-vita-marvel-super-he...</td>\n",
       "      <td>PlayStation Vita</td>\n",
       "      <td>...</td>\n",
       "      <td>Y</td>\n",
       "      <td>2012</td>\n",
       "      <td>9</td>\n",
       "      <td>12</td>\n",
       "    </tr>\n",
       "    <tr>\n",
       "      <th>2</th>\n",
       "      <td>Great</td>\n",
       "      <td>Splice: Tree of Life</td>\n",
       "      <td>/games/splice/ipad-141070</td>\n",
       "      <td>iPad</td>\n",
       "      <td>...</td>\n",
       "      <td>N</td>\n",
       "      <td>2012</td>\n",
       "      <td>9</td>\n",
       "      <td>12</td>\n",
       "    </tr>\n",
       "    <tr>\n",
       "      <th>3</th>\n",
       "      <td>Great</td>\n",
       "      <td>NHL 13</td>\n",
       "      <td>/games/nhl-13/xbox-360-128182</td>\n",
       "      <td>Xbox 360</td>\n",
       "      <td>...</td>\n",
       "      <td>N</td>\n",
       "      <td>2012</td>\n",
       "      <td>9</td>\n",
       "      <td>11</td>\n",
       "    </tr>\n",
       "    <tr>\n",
       "      <th>4</th>\n",
       "      <td>Great</td>\n",
       "      <td>NHL 13</td>\n",
       "      <td>/games/nhl-13/ps3-128181</td>\n",
       "      <td>PlayStation 3</td>\n",
       "      <td>...</td>\n",
       "      <td>N</td>\n",
       "      <td>2012</td>\n",
       "      <td>9</td>\n",
       "      <td>11</td>\n",
       "    </tr>\n",
       "  </tbody>\n",
       "</table>\n",
       "<p>5 rows × 10 columns</p>\n",
       "</div>"
      ],
      "text/plain": [
       "  score_phrase                                              title  \\\n",
       "0      Amazing                            LittleBigPlanet PS Vita   \n",
       "1      Amazing  LittleBigPlanet PS Vita -- Marvel Super Hero E...   \n",
       "2        Great                               Splice: Tree of Life   \n",
       "3        Great                                             NHL 13   \n",
       "4        Great                                             NHL 13   \n",
       "\n",
       "                                                 url          platform  ...  \\\n",
       "0             /games/littlebigplanet-vita/vita-98907  PlayStation Vita  ...   \n",
       "1  /games/littlebigplanet-ps-vita-marvel-super-he...  PlayStation Vita  ...   \n",
       "2                          /games/splice/ipad-141070              iPad  ...   \n",
       "3                      /games/nhl-13/xbox-360-128182          Xbox 360  ...   \n",
       "4                           /games/nhl-13/ps3-128181     PlayStation 3  ...   \n",
       "\n",
       "   editors_choice release_year release_month  release_day  \n",
       "0               Y         2012             9           12  \n",
       "1               Y         2012             9           12  \n",
       "2               N         2012             9           12  \n",
       "3               N         2012             9           11  \n",
       "4               N         2012             9           11  \n",
       "\n",
       "[5 rows x 10 columns]"
      ]
     },
     "execution_count": 5,
     "metadata": {},
     "output_type": "execute_result"
    }
   ],
   "source": [
    "ign.head()"
   ]
  },
  {
   "cell_type": "code",
   "execution_count": 6,
   "metadata": {},
   "outputs": [
    {
     "data": {
      "text/html": [
       "<div>\n",
       "<style scoped>\n",
       "    .dataframe tbody tr th:only-of-type {\n",
       "        vertical-align: middle;\n",
       "    }\n",
       "\n",
       "    .dataframe tbody tr th {\n",
       "        vertical-align: top;\n",
       "    }\n",
       "\n",
       "    .dataframe thead th {\n",
       "        text-align: right;\n",
       "    }\n",
       "</style>\n",
       "<table border=\"1\" class=\"dataframe\">\n",
       "  <thead>\n",
       "    <tr style=\"text-align: right;\">\n",
       "      <th></th>\n",
       "      <th>Rank</th>\n",
       "      <th>Name</th>\n",
       "      <th>Platform</th>\n",
       "      <th>Year</th>\n",
       "      <th>...</th>\n",
       "      <th>EU_Sales</th>\n",
       "      <th>JP_Sales</th>\n",
       "      <th>Other_Sales</th>\n",
       "      <th>Global_Sales</th>\n",
       "    </tr>\n",
       "  </thead>\n",
       "  <tbody>\n",
       "    <tr>\n",
       "      <th>0</th>\n",
       "      <td>1</td>\n",
       "      <td>Wii Sports</td>\n",
       "      <td>Wii</td>\n",
       "      <td>2006.0</td>\n",
       "      <td>...</td>\n",
       "      <td>29.02</td>\n",
       "      <td>3.77</td>\n",
       "      <td>8.46</td>\n",
       "      <td>82.74</td>\n",
       "    </tr>\n",
       "    <tr>\n",
       "      <th>1</th>\n",
       "      <td>2</td>\n",
       "      <td>Super Mario Bros.</td>\n",
       "      <td>NES</td>\n",
       "      <td>1985.0</td>\n",
       "      <td>...</td>\n",
       "      <td>3.58</td>\n",
       "      <td>6.81</td>\n",
       "      <td>0.77</td>\n",
       "      <td>40.24</td>\n",
       "    </tr>\n",
       "    <tr>\n",
       "      <th>2</th>\n",
       "      <td>3</td>\n",
       "      <td>Mario Kart Wii</td>\n",
       "      <td>Wii</td>\n",
       "      <td>2008.0</td>\n",
       "      <td>...</td>\n",
       "      <td>12.88</td>\n",
       "      <td>3.79</td>\n",
       "      <td>3.31</td>\n",
       "      <td>35.82</td>\n",
       "    </tr>\n",
       "    <tr>\n",
       "      <th>3</th>\n",
       "      <td>4</td>\n",
       "      <td>Wii Sports Resort</td>\n",
       "      <td>Wii</td>\n",
       "      <td>2009.0</td>\n",
       "      <td>...</td>\n",
       "      <td>11.01</td>\n",
       "      <td>3.28</td>\n",
       "      <td>2.96</td>\n",
       "      <td>33.00</td>\n",
       "    </tr>\n",
       "    <tr>\n",
       "      <th>4</th>\n",
       "      <td>5</td>\n",
       "      <td>Pokemon Red/Pokemon Blue</td>\n",
       "      <td>GB</td>\n",
       "      <td>1996.0</td>\n",
       "      <td>...</td>\n",
       "      <td>8.89</td>\n",
       "      <td>10.22</td>\n",
       "      <td>1.00</td>\n",
       "      <td>31.37</td>\n",
       "    </tr>\n",
       "  </tbody>\n",
       "</table>\n",
       "<p>5 rows × 11 columns</p>\n",
       "</div>"
      ],
      "text/plain": [
       "   Rank                      Name Platform    Year  ... EU_Sales JP_Sales  \\\n",
       "0     1                Wii Sports      Wii  2006.0  ...    29.02     3.77   \n",
       "1     2         Super Mario Bros.      NES  1985.0  ...     3.58     6.81   \n",
       "2     3            Mario Kart Wii      Wii  2008.0  ...    12.88     3.79   \n",
       "3     4         Wii Sports Resort      Wii  2009.0  ...    11.01     3.28   \n",
       "4     5  Pokemon Red/Pokemon Blue       GB  1996.0  ...     8.89    10.22   \n",
       "\n",
       "   Other_Sales  Global_Sales  \n",
       "0         8.46         82.74  \n",
       "1         0.77         40.24  \n",
       "2         3.31         35.82  \n",
       "3         2.96         33.00  \n",
       "4         1.00         31.37  \n",
       "\n",
       "[5 rows x 11 columns]"
      ]
     },
     "execution_count": 6,
     "metadata": {},
     "output_type": "execute_result"
    }
   ],
   "source": [
    "vgsales.head()"
   ]
  },
  {
   "cell_type": "markdown",
   "metadata": {},
   "source": [
    "# Data Cleaning"
   ]
  },
  {
   "cell_type": "markdown",
   "metadata": {},
   "source": [
    "Describe your data cleaning steps here."
   ]
  },
  {
   "cell_type": "code",
   "execution_count": 7,
   "metadata": {},
   "outputs": [],
   "source": [
    "## YOUR CODE HERE\n",
    "## FEEL FREE TO ADD MULTIPLE CELLS PER SECTION"
   ]
  },
  {
   "cell_type": "markdown",
   "metadata": {},
   "source": [
    "We would like to merge the three DataFrames into one. First, we take a look at the columns of each DataFrame."
   ]
  },
  {
   "cell_type": "code",
   "execution_count": 8,
   "metadata": {},
   "outputs": [
    {
     "data": {
      "text/plain": [
       "Index(['game', 'platform', 'developer', 'genre', 'number_players', 'rating',\n",
       "       'release_date', 'positive_critics', 'neutral_critics',\n",
       "       'negative_critics', 'positive_users', 'neutral_users', 'negative_users',\n",
       "       'metascore', 'user_score'],\n",
       "      dtype='object')"
      ]
     },
     "execution_count": 8,
     "metadata": {},
     "output_type": "execute_result"
    }
   ],
   "source": [
    "metacritic.columns"
   ]
  },
  {
   "cell_type": "code",
   "execution_count": 9,
   "metadata": {},
   "outputs": [
    {
     "data": {
      "text/plain": [
       "Index(['score_phrase', 'title', 'url', 'platform', 'score', 'genre',\n",
       "       'editors_choice', 'release_year', 'release_month', 'release_day'],\n",
       "      dtype='object')"
      ]
     },
     "execution_count": 9,
     "metadata": {},
     "output_type": "execute_result"
    }
   ],
   "source": [
    "ign.columns"
   ]
  },
  {
   "cell_type": "code",
   "execution_count": 10,
   "metadata": {
    "scrolled": false
   },
   "outputs": [
    {
     "data": {
      "text/plain": [
       "Index(['Rank', 'Name', 'Platform', 'Year', 'Genre', 'Publisher', 'NA_Sales',\n",
       "       'EU_Sales', 'JP_Sales', 'Other_Sales', 'Global_Sales'],\n",
       "      dtype='object')"
      ]
     },
     "execution_count": 10,
     "metadata": {},
     "output_type": "execute_result"
    }
   ],
   "source": [
    "vgsales.columns"
   ]
  },
  {
   "cell_type": "markdown",
   "metadata": {},
   "source": [
    "In the datasets, same things are labelled differently, such as name of a game. Let's standardize the column labels of each entry before we do any data manipulation."
   ]
  },
  {
   "cell_type": "code",
   "execution_count": 17,
   "metadata": {},
   "outputs": [
    {
     "data": {
      "text/plain": [
       "Index(['rank', 'name', 'platform', 'release_year', 'genre', 'publisher',\n",
       "       'na_sales_million', 'eu_sales_million', 'jp_sales_million',\n",
       "       'other_sales_million', 'global_sales_million'],\n",
       "      dtype='object')"
      ]
     },
     "execution_count": 17,
     "metadata": {},
     "output_type": "execute_result"
    }
   ],
   "source": [
    "# vgsales column names should be all lowercase\n",
    "vgsales = vgsales.rename(columns=str.lower)\n",
    "\n",
    "# misc renames\n",
    "metacritic = metacritic.rename(columns={'game': 'name'})\n",
    "ign = ign.rename(columns={'title':'name'})\n",
    "vgsales = vgsales.rename(columns={'year':'release_year', 'na_sales' : 'na_sales_million', 'eu_sales': 'eu_sales_million', 'jp_sales': 'jp_sales_million', 'other_sales': 'other_sales_million', 'global_sales': 'global_sales_million'})"
   ]
  },
  {
   "cell_type": "markdown",
   "metadata": {},
   "source": [
    "There are some columns that are for sure irrelevant to the analysis, such as the URL path of a game review on IGN."
   ]
  },
  {
   "cell_type": "code",
   "execution_count": 12,
   "metadata": {},
   "outputs": [],
   "source": [
    "ign = ign.drop(columns='url')"
   ]
  },
  {
   "cell_type": "markdown",
   "metadata": {},
   "source": [
    "In all datasets, although certain games may have same titles, they are treated as different observations because they may be in different platforms. Let's standardize our titles this way as well."
   ]
  },
  {
   "cell_type": "code",
   "execution_count": 13,
   "metadata": {},
   "outputs": [
    {
     "data": {
      "text/plain": [
       "array(['Wii', 'NES', 'GB', 'DS', 'X360', 'PS3', 'PS2', 'SNES', 'GBA',\n",
       "       '3DS', 'PS4', 'N64', 'PS', 'XB', 'PC', '2600', 'PSP', 'XOne', 'GC',\n",
       "       'WiiU', 'GEN', 'DC', 'PSV', 'SAT', 'SCD', 'WS', 'NG', 'TG16',\n",
       "       '3DO', 'GG', 'PCFX'], dtype=object)"
      ]
     },
     "execution_count": 13,
     "metadata": {},
     "output_type": "execute_result"
    }
   ],
   "source": [
    "vgsales['platform'].unique()"
   ]
  },
  {
   "cell_type": "code",
   "execution_count": 14,
   "metadata": {},
   "outputs": [
    {
     "data": {
      "text/plain": [
       "array(['PlayStation Vita', 'iPad', 'Xbox 360', 'PlayStation 3',\n",
       "       'Macintosh', 'PC', 'iPhone', 'Nintendo DS', 'Nintendo 3DS',\n",
       "       'Android', 'Wii', 'PlayStation 4', 'Wii U', 'Linux',\n",
       "       'PlayStation Portable', 'PlayStation', 'Nintendo 64', 'Saturn',\n",
       "       'Lynx', 'Game Boy', 'Game Boy Color', 'NeoGeo Pocket Color',\n",
       "       'Game.Com', 'Dreamcast', 'Dreamcast VMU', 'WonderSwan', 'Arcade',\n",
       "       'Nintendo 64DD', 'PlayStation 2', 'WonderSwan Color',\n",
       "       'Game Boy Advance', 'Xbox', 'GameCube', 'DVD / HD Video Game',\n",
       "       'Wireless', 'Pocket PC', 'N-Gage', 'NES', 'iPod', 'Genesis',\n",
       "       'TurboGrafx-16', 'Super NES', 'NeoGeo', 'Master System',\n",
       "       'Atari 5200', 'TurboGrafx-CD', 'Atari 2600', 'Sega 32X', 'Vectrex',\n",
       "       'Commodore 64/128', 'Sega CD', 'Nintendo DSi', 'Windows Phone',\n",
       "       'Web Games', 'Xbox One', 'Windows Surface', 'Ouya',\n",
       "       'New Nintendo 3DS', 'SteamOS'], dtype=object)"
      ]
     },
     "execution_count": 14,
     "metadata": {},
     "output_type": "execute_result"
    }
   ],
   "source": [
    "ign['platform'].unique()"
   ]
  },
  {
   "cell_type": "code",
   "execution_count": 15,
   "metadata": {},
   "outputs": [
    {
     "data": {
      "text/plain": [
       "array(['PC', '3DS', 'VITA', 'WIIU', 'PS4', 'XONE', 'Switch'], dtype=object)"
      ]
     },
     "execution_count": 15,
     "metadata": {},
     "output_type": "execute_result"
    }
   ],
   "source": [
    "metacritic['platform'].unique()"
   ]
  },
  {
   "cell_type": "code",
   "execution_count": 25,
   "metadata": {},
   "outputs": [
    {
     "data": {
      "text/html": [
       "<div>\n",
       "<style scoped>\n",
       "    .dataframe tbody tr th:only-of-type {\n",
       "        vertical-align: middle;\n",
       "    }\n",
       "\n",
       "    .dataframe tbody tr th {\n",
       "        vertical-align: top;\n",
       "    }\n",
       "\n",
       "    .dataframe thead th {\n",
       "        text-align: right;\n",
       "    }\n",
       "</style>\n",
       "<table border=\"1\" class=\"dataframe\">\n",
       "  <thead>\n",
       "    <tr style=\"text-align: right;\">\n",
       "      <th></th>\n",
       "      <th>rank</th>\n",
       "      <th>name</th>\n",
       "      <th>platform</th>\n",
       "      <th>release_year</th>\n",
       "      <th>...</th>\n",
       "      <th>eu_sales_million</th>\n",
       "      <th>jp_sales_million</th>\n",
       "      <th>other_sales_million</th>\n",
       "      <th>global_sales_million</th>\n",
       "    </tr>\n",
       "  </thead>\n",
       "  <tbody>\n",
       "    <tr>\n",
       "      <th>2056</th>\n",
       "      <td>2058</td>\n",
       "      <td>Breath of Fire III</td>\n",
       "      <td>PS</td>\n",
       "      <td>1997.0</td>\n",
       "      <td>...</td>\n",
       "      <td>0.19</td>\n",
       "      <td>0.46</td>\n",
       "      <td>0.07</td>\n",
       "      <td>1.00</td>\n",
       "    </tr>\n",
       "    <tr>\n",
       "      <th>3559</th>\n",
       "      <td>3561</td>\n",
       "      <td>Breath of Fire IV</td>\n",
       "      <td>PS</td>\n",
       "      <td>2000.0</td>\n",
       "      <td>...</td>\n",
       "      <td>0.08</td>\n",
       "      <td>0.34</td>\n",
       "      <td>0.04</td>\n",
       "      <td>0.56</td>\n",
       "    </tr>\n",
       "    <tr>\n",
       "      <th>5217</th>\n",
       "      <td>5219</td>\n",
       "      <td>Breath of Fire II</td>\n",
       "      <td>SNES</td>\n",
       "      <td>1994.0</td>\n",
       "      <td>...</td>\n",
       "      <td>0.00</td>\n",
       "      <td>0.36</td>\n",
       "      <td>0.00</td>\n",
       "      <td>0.36</td>\n",
       "    </tr>\n",
       "    <tr>\n",
       "      <th>7170</th>\n",
       "      <td>7172</td>\n",
       "      <td>Breath of Fire</td>\n",
       "      <td>GBA</td>\n",
       "      <td>2001.0</td>\n",
       "      <td>...</td>\n",
       "      <td>0.04</td>\n",
       "      <td>0.06</td>\n",
       "      <td>0.00</td>\n",
       "      <td>0.22</td>\n",
       "    </tr>\n",
       "    <tr>\n",
       "      <th>7758</th>\n",
       "      <td>7760</td>\n",
       "      <td>Breath of Fire II</td>\n",
       "      <td>GBA</td>\n",
       "      <td>2001.0</td>\n",
       "      <td>...</td>\n",
       "      <td>0.05</td>\n",
       "      <td>0.00</td>\n",
       "      <td>0.00</td>\n",
       "      <td>0.19</td>\n",
       "    </tr>\n",
       "    <tr>\n",
       "      <th>7789</th>\n",
       "      <td>7791</td>\n",
       "      <td>Breath of Fire: Dragon Quarter</td>\n",
       "      <td>PS2</td>\n",
       "      <td>2002.0</td>\n",
       "      <td>...</td>\n",
       "      <td>0.07</td>\n",
       "      <td>0.00</td>\n",
       "      <td>0.02</td>\n",
       "      <td>0.19</td>\n",
       "    </tr>\n",
       "    <tr>\n",
       "      <th>13636</th>\n",
       "      <td>13638</td>\n",
       "      <td>Breath of Fire III</td>\n",
       "      <td>PSP</td>\n",
       "      <td>2005.0</td>\n",
       "      <td>...</td>\n",
       "      <td>0.03</td>\n",
       "      <td>0.00</td>\n",
       "      <td>0.01</td>\n",
       "      <td>0.04</td>\n",
       "    </tr>\n",
       "  </tbody>\n",
       "</table>\n",
       "<p>7 rows × 11 columns</p>\n",
       "</div>"
      ],
      "text/plain": [
       "        rank                            name platform  release_year  ...  \\\n",
       "2056    2058              Breath of Fire III       PS        1997.0  ...   \n",
       "3559    3561               Breath of Fire IV       PS        2000.0  ...   \n",
       "5217    5219               Breath of Fire II     SNES        1994.0  ...   \n",
       "7170    7172                  Breath of Fire      GBA        2001.0  ...   \n",
       "7758    7760               Breath of Fire II      GBA        2001.0  ...   \n",
       "7789    7791  Breath of Fire: Dragon Quarter      PS2        2002.0  ...   \n",
       "13636  13638              Breath of Fire III      PSP        2005.0  ...   \n",
       "\n",
       "      eu_sales_million jp_sales_million  other_sales_million  \\\n",
       "2056              0.19             0.46                 0.07   \n",
       "3559              0.08             0.34                 0.04   \n",
       "5217              0.00             0.36                 0.00   \n",
       "7170              0.04             0.06                 0.00   \n",
       "7758              0.05             0.00                 0.00   \n",
       "7789              0.07             0.00                 0.02   \n",
       "13636             0.03             0.00                 0.01   \n",
       "\n",
       "       global_sales_million  \n",
       "2056                   1.00  \n",
       "3559                   0.56  \n",
       "5217                   0.36  \n",
       "7170                   0.22  \n",
       "7758                   0.19  \n",
       "7789                   0.19  \n",
       "13636                  0.04  \n",
       "\n",
       "[7 rows x 11 columns]"
      ]
     },
     "execution_count": 25,
     "metadata": {},
     "output_type": "execute_result"
    }
   ],
   "source": [
    "#def standardize_platform(string):\n",
    "vgsales[vgsales['name'].str.contains(\"Three Houses\")]"
   ]
  },
  {
   "cell_type": "markdown",
   "metadata": {},
   "source": [
    "# Data Analysis & Results"
   ]
  },
  {
   "cell_type": "markdown",
   "metadata": {},
   "source": [
    "Include cells that describe the steps in your data analysis."
   ]
  },
  {
   "cell_type": "code",
   "execution_count": null,
   "metadata": {},
   "outputs": [],
   "source": [
    "## YOUR CODE HERE\n",
    "## FEEL FREE TO ADD MULTIPLE CELLS PER SECTION"
   ]
  },
  {
   "cell_type": "markdown",
   "metadata": {},
   "source": [
    "# Ethics & Privacy"
   ]
  },
  {
   "cell_type": "markdown",
   "metadata": {},
   "source": [
    "*Fill in your ethics & privacy discussion here*"
   ]
  },
  {
   "cell_type": "markdown",
   "metadata": {},
   "source": [
    "# Conclusion & Discussion"
   ]
  },
  {
   "cell_type": "markdown",
   "metadata": {},
   "source": [
    "*Fill in your discussion information here*"
   ]
  },
  {
   "cell_type": "markdown",
   "metadata": {},
   "source": [
    "# Team Contributions"
   ]
  },
  {
   "cell_type": "markdown",
   "metadata": {},
   "source": [
    "*Specify who in your group worked on which parts of the project.*"
   ]
  }
 ],
 "metadata": {
  "kernelspec": {
   "display_name": "Python 3",
   "language": "python",
   "name": "python3"
  },
  "language_info": {
   "codemirror_mode": {
    "name": "ipython",
    "version": 3
   },
   "file_extension": ".py",
   "mimetype": "text/x-python",
   "name": "python",
   "nbconvert_exporter": "python",
   "pygments_lexer": "ipython3",
   "version": "3.8.3"
  }
 },
 "nbformat": 4,
 "nbformat_minor": 2
}

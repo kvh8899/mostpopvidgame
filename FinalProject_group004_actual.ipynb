{
 "cells": [
  {
   "cell_type": "markdown",
   "metadata": {},
   "source": [
    "# COGS 108 - Final Project "
   ]
  },
  {
   "cell_type": "markdown",
   "metadata": {},
   "source": [
    "## Permissions"
   ]
  },
  {
   "cell_type": "markdown",
   "metadata": {},
   "source": [
    "Place an `X` in the appropriate bracket below to specify if you would like your group's project to be made available to the public. (Note that PIDs will be scraped from the public submission, but student names will be included.)\n",
    "\n",
    "* [  ] YES - make available\n",
    "* [  ] NO - keep private"
   ]
  },
  {
   "cell_type": "markdown",
   "metadata": {},
   "source": [
    "# Overview"
   ]
  },
  {
   "cell_type": "markdown",
   "metadata": {},
   "source": [
    "*Fill in your overview here*"
   ]
  },
  {
   "cell_type": "markdown",
   "metadata": {},
   "source": [
    "# Names\n",
    "\n",
    "- Toland (Venti)\n",
    "- Chongyun (Daiki)\n",
    "- Zhaoge Ouyang\n",
    "- cw"
   ]
  },
  {
   "cell_type": "markdown",
   "metadata": {},
   "source": [
    "# Group Members IDs\n",
    "\n",
    "- A15747306(Kyle)\n",
    "- A14136586\n",
    "- A15405768 (Zhaoge)\n",
    "- A######## (Cary)"
   ]
  },
  {
   "cell_type": "markdown",
   "metadata": {},
   "source": [
    "# Research Question"
   ]
  },
  {
   "cell_type": "markdown",
   "metadata": {},
   "source": [
    "We plan to look at games and their sales data to figure out how does a game's genre, merchandise, critic score, online/total players count, player base (gaming platform) affect a games popularity and sales? We want to know which factors contribute to the highest sales for gaming platform that are from 2000 onwards."
   ]
  },
  {
   "cell_type": "markdown",
   "metadata": {},
   "source": [
    "## Background and Prior Work"
   ]
  },
  {
   "cell_type": "markdown",
   "metadata": {},
   "source": [
    "This question is interesting because:\n",
    "We will be able to see the current trends in gaming.\n",
    "When a game is released by a company, the critic score, the company its made by, and the genre can predict how well the game does in the market. These all influence the popularity of a game. So according to these variables, we want to predict how popular a game is and if it is worth playing. Recently some popular games such as among us and Genshin impact have skyrocketed in popularity and sales, so we want to investigate what exactly makes games like this popular so fast.\n",
    "References (include links):\n",
    "- 1)https://citeseerx.ist.psu.edu/viewdoc/download?doi=10.1.1.549.6080&rep=rep1&type=pdf\n",
    "- 2)https://www.kaggle.com/gulsahdemiryurek/video-game-sales-exploratory-data-analysis"
   ]
  },
  {
   "cell_type": "markdown",
   "metadata": {},
   "source": [
    "# Hypothesis\n"
   ]
  },
  {
   "cell_type": "markdown",
   "metadata": {},
   "source": [
    "Our hypothesis is that games that fall into the adventure and strategy categories to have the highest sales and rating/rank."
   ]
  },
  {
   "cell_type": "markdown",
   "metadata": {},
   "source": [
    "# Dataset(s)"
   ]
  },
  {
   "cell_type": "markdown",
   "metadata": {},
   "source": [
    "*Fill in your dataset information here*\n",
    "\n",
    "(Copy this information for each dataset)\n",
    "- Dataset Name: Metacritic Games Stats 2011-2019\n",
    "- Link to the dataset: https://www.kaggle.com/skateddu/metacritic-games-stats-20112019?select=metacritic_games.csv\n",
    "- Number of observations: 4018\n",
    "\n",
    "1-2 sentences describing each dataset. \n",
    "\n",
    "If you plan to use multiple datasets, add 1-2 sentences about how you plan to combine these datasets."
   ]
  },
  {
   "cell_type": "markdown",
   "metadata": {},
   "source": [
    "*Fill in your dataset information here*\n",
    "\n",
    "(Copy this information for each dataset)\n",
    "- Dataset Name: Video Game Sales\n",
    "- Link to the dataset: https://www.kaggle.com/gregorut/videogamesales\n",
    "- Number of observations: 11493\n",
    "\n",
    "1-2 sentences describing each dataset. \n",
    "\n",
    "If you plan to use multiple datasets, add 1-2 sentences about how you plan to combine these datasets."
   ]
  },
  {
   "cell_type": "markdown",
   "metadata": {},
   "source": [
    "*Fill in your dataset information here*\n",
    "\n",
    "(Copy this information for each dataset)\n",
    "- Dataset Name: IGN Games of 20 Years\n",
    "- Link to the dataset: https://raw.githubusercontent.com/john7obed/ign_games_of_20_years/master/ign.csv\n",
    "- Number of observations: 18624\n",
    "\n",
    "1-2 sentences describing each dataset. \n",
    "\n",
    "If you plan to use multiple datasets, add 1-2 sentences about how you plan to combine these datasets."
   ]
  },
  {
   "cell_type": "markdown",
   "metadata": {},
   "source": [
    "# Setup"
   ]
  },
  {
   "cell_type": "markdown",
   "metadata": {},
   "source": [
    "Let's begin by importing some packages for analysis."
   ]
  },
  {
   "cell_type": "code",
   "execution_count": null,
   "metadata": {},
   "outputs": [],
   "source": [
    "%matplotlib inline\n",
    "\n",
    "import pandas as pd\n",
    "import numpy as np\n",
    "import matplotlib.pyplot as plt\n",
    "\n",
    "import seaborn as sns\n",
    "\n",
    "import warnings\n",
    "warnings.filterwarnings('ignore')\n",
    "\n",
    "import patsy\n",
    "import statsmodels.api as sm\n",
    "import scipy.stats as stats\n",
    "from scipy.stats import ttest_ind, chisquare, normaltest\n",
    "\n",
    "pd.set_option('display.max_columns', 20)\n",
    "pd.set_option('display.max_rows', 20)"
   ]
  },
  {
   "cell_type": "code",
   "execution_count": null,
   "metadata": {},
   "outputs": [],
   "source": [
    "# Configure libraries\n",
    "# The seaborn library makes plots look nicer\n",
    "sns.set()\n",
    "sns.set_context('talk')\n",
    "\n",
    "# Don't display too many rows/cols of DataFrames\n",
    "pd.options.display.max_rows = 7\n",
    "pd.options.display.max_columns = 8\n",
    "\n",
    "# Round decimals when displaying DataFrames\n",
    "pd.set_option('precision', 2)"
   ]
  },
  {
   "cell_type": "markdown",
   "metadata": {},
   "source": [
    "Let's also import the 3 datasets listed for the analysis."
   ]
  },
  {
   "cell_type": "code",
   "execution_count": null,
   "metadata": {},
   "outputs": [],
   "source": [
    "metacritic = pd.read_csv('metacritic_games.csv')\n",
    "ign = pd.read_csv('ign.csv', index_col='Unnamed: 0')\n",
    "vgsales = pd.read_csv('vgsales_lessNaN.csv')"
   ]
  },
  {
   "cell_type": "markdown",
   "metadata": {},
   "source": [
    "To make sure that our data is imported properly:"
   ]
  },
  {
   "cell_type": "code",
   "execution_count": null,
   "metadata": {},
   "outputs": [],
   "source": [
    "metacritic.head()"
   ]
  },
  {
   "cell_type": "code",
   "execution_count": null,
   "metadata": {},
   "outputs": [],
   "source": [
    "ign.head()"
   ]
  },
  {
   "cell_type": "code",
   "execution_count": null,
   "metadata": {},
   "outputs": [],
   "source": [
    "vgsales.head()"
   ]
  },
  {
   "cell_type": "markdown",
   "metadata": {},
   "source": [
    "# Data Cleaning"
   ]
  },
  {
   "cell_type": "markdown",
   "metadata": {},
   "source": [
    "Describe your data cleaning steps here."
   ]
  },
  {
   "cell_type": "code",
   "execution_count": null,
   "metadata": {},
   "outputs": [],
   "source": [
    "## YOUR CODE HERE\n",
    "## FEEL FREE TO ADD MULTIPLE CELLS PER SECTION"
   ]
  },
  {
   "cell_type": "markdown",
   "metadata": {},
   "source": [
    "We would like to merge the three DataFrames into one. First, we take a look at the columns of each DataFrame."
   ]
  },
  {
   "cell_type": "code",
   "execution_count": null,
   "metadata": {
    "scrolled": false
   },
   "outputs": [],
   "source": [
    "vgsales.columns"
   ]
  },
  {
   "cell_type": "markdown",
   "metadata": {},
   "source": [
    "In the datasets, same things are labelled differently, such as name of a game. Let's standardize the column labels of each entry before we do any data manipulation."
   ]
  },
  {
   "cell_type": "code",
   "execution_count": null,
   "metadata": {},
   "outputs": [],
   "source": [
    "# vgsales column names should be all lowercase\n",
    "vgsales = vgsales.rename(columns=str.lower)\n",
    "\n",
    "# misc renames\n",
    "metacritic = metacritic.rename(columns={'game': 'name'})\n",
    "ign = ign.rename(columns={'title':'name'})\n",
    "vgsales = vgsales.rename(columns={'year':'release_year', 'na_sales' : 'na_sales_million', 'pal_sales': 'pal_sales_million', 'jp_sales': 'jp_sales_million', 'other_sales': 'other_sales_million', 'global_sales': 'global_sales_million'})"
   ]
  },
  {
   "cell_type": "markdown",
   "metadata": {},
   "source": [
    "There are some columns that are for sure irrelevant to the analysis, such as the URL path of a game review on IGN."
   ]
  },
  {
   "cell_type": "code",
   "execution_count": null,
   "metadata": {},
   "outputs": [],
   "source": [
    "ign = ign.drop(columns='url')\n",
    "vgsales = vgsales.drop(columns=['last_update', 'url', 'status', 'vgchartzscore', 'img_url'])"
   ]
  },
  {
   "cell_type": "markdown",
   "metadata": {},
   "source": [
    "In all datasets, although certain games may have same titles, they are treated as different observations because they may be in different platforms. Let's standardize our titles this way as well."
   ]
  },
  {
   "cell_type": "code",
   "execution_count": null,
   "metadata": {},
   "outputs": [],
   "source": [
    "vgsales['platform'].unique()"
   ]
  },
  {
   "cell_type": "code",
   "execution_count": null,
   "metadata": {},
   "outputs": [],
   "source": [
    "ign['platform'].unique()"
   ]
  },
  {
   "cell_type": "code",
   "execution_count": null,
   "metadata": {
    "scrolled": true
   },
   "outputs": [],
   "source": [
    "metacritic['platform'].unique()"
   ]
  },
  {
   "cell_type": "markdown",
   "metadata": {},
   "source": [
    "Let's try to standardize a subset of the platforms."
   ]
  },
  {
   "cell_type": "code",
   "execution_count": null,
   "metadata": {},
   "outputs": [],
   "source": [
    "def standardize_platform(string):\n",
    "    platforms = ['Wii', 'NES', 'PC', 'GB', 'DS', 'X360', 'SNES', 'PS3', 'PS4',\n",
    "       '3DS', 'PS2', 'GBA', 'NS', 'N64', 'PS', 'XOne', 'WiiU',\n",
    "       'XB', 'PSP', 'GC', 'GBC', 'PSV']\n",
    "    # I did not include: Macintosh, Lynx, Saturn, NeoGeo Pocket Color\n",
    "    # Game.Com, Dreamcast, Dreamcast VMU, WonderSwan, Arcade,Nintendo 64DD,\n",
    "    # WonderSwan Color, DVD / HD Video Game, Wireless, Pocket PC, N-Gage,\n",
    "    # iPod, Genesis, TurboGrafx-16, NeoGeo, ...everything down there except 3DS and XBox One\n",
    "    \n",
    "    if string in ['PlayStation Vita', 'VITA']:\n",
    "        return 'PSV'\n",
    "    elif string == 'Xbox 360':\n",
    "        return 'X360'\n",
    "    elif string == 'PlayStation 3':\n",
    "        return 'PS3'\n",
    "    elif string == 'PC':\n",
    "        return 'PC'\n",
    "    elif string == 'Nintendo DS':\n",
    "        return 'DS'\n",
    "    elif string in ['Nintendo 3DS', 'New Nintendo 3DS', '3DS']:\n",
    "        return '3DS'\n",
    "    elif string == 'Wii':\n",
    "        return 'Wii'\n",
    "    elif string in ['PlayStation 4', 'PS4']:\n",
    "        return 'PS4'\n",
    "    elif string in ['Wii U', 'WIIU']:\n",
    "        return 'WiiU'\n",
    "    elif string == 'PlayStation Portable':\n",
    "        return 'PSP'\n",
    "    elif string == 'PlayStation':\n",
    "        return 'PS'\n",
    "    elif string == 'Nintendo 64':\n",
    "        return 'N64'\n",
    "    elif string == 'Game Boy':\n",
    "        return 'GB'\n",
    "    elif string == 'Game Boy Color':\n",
    "        return 'GBC'\n",
    "    elif string == 'PlayStation 2':\n",
    "        return 'PS2'\n",
    "    elif string == 'Game Boy Advance':\n",
    "        return 'GBA'\n",
    "    elif string == 'Xbox':\n",
    "        return 'XB'\n",
    "    elif string == 'GameCube':\n",
    "        return 'GC'\n",
    "    elif string == 'NES':\n",
    "        return 'NES'\n",
    "    elif string == 'Super NES':\n",
    "        return 'SNES'\n",
    "    elif string in ['Xbox One', 'XONE']:\n",
    "        return 'XOne'\n",
    "    elif string == 'Switch':\n",
    "        return 'NS'\n",
    "    elif string not in platforms:\n",
    "        return np.nan\n",
    "    else:\n",
    "        return string"
   ]
  },
  {
   "cell_type": "markdown",
   "metadata": {},
   "source": [
    "Apply the standardize function to each dataset and check the unique values again."
   ]
  },
  {
   "cell_type": "code",
   "execution_count": null,
   "metadata": {},
   "outputs": [],
   "source": [
    "metacritic['platform'] = metacritic['platform'].apply(standardize_platform)\n",
    "vgsales['platform'] = vgsales['platform'].apply(standardize_platform)\n",
    "ign['platform'] = ign['platform'].apply(standardize_platform)\n",
    "vgsales.dropna(subset=['platform'], inplace=True)\n",
    "ign.dropna(subset=['platform'], inplace=True)\n",
    "metacritic.dropna(subset=['platform'], inplace=True)"
   ]
  },
  {
   "cell_type": "code",
   "execution_count": null,
   "metadata": {},
   "outputs": [],
   "source": [
    "vgsales['platform'].unique()"
   ]
  },
  {
   "cell_type": "code",
   "execution_count": null,
   "metadata": {},
   "outputs": [],
   "source": [
    "vgsales[vgsales['name'].str.startswith('Fire Emblem')]"
   ]
  },
  {
   "cell_type": "markdown",
   "metadata": {},
   "source": [
    "# Data Analysis & Results"
   ]
  },
  {
   "cell_type": "markdown",
   "metadata": {},
   "source": [
    "Include cells that describe the steps in your data analysis."
   ]
  },
  {
   "cell_type": "code",
   "execution_count": null,
   "metadata": {},
   "outputs": [],
   "source": [
    "## YOUR CODE HERE\n",
    "## FEEL FREE TO ADD MULTIPLE CELLS PER SECTION"
   ]
  },
  {
   "cell_type": "markdown",
   "metadata": {},
   "source": [
    "# Ethics & Privacy"
   ]
  },
  {
   "cell_type": "markdown",
   "metadata": {},
   "source": [
    "*Fill in your ethics & privacy discussion here*"
   ]
  },
  {
   "cell_type": "markdown",
   "metadata": {},
   "source": [
    "# Conclusion & Discussion"
   ]
  },
  {
   "cell_type": "markdown",
   "metadata": {},
   "source": [
    "*Fill in your discussion information here*"
   ]
  },
  {
   "cell_type": "markdown",
   "metadata": {},
   "source": [
    "# Team Contributions"
   ]
  },
  {
   "cell_type": "markdown",
   "metadata": {},
   "source": [
    "*Specify who in your group worked on which parts of the project.*"
   ]
  }
 ],
 "metadata": {
  "kernelspec": {
   "display_name": "Python 3",
   "language": "python",
   "name": "python3"
  },
  "language_info": {
   "codemirror_mode": {
    "name": "ipython",
    "version": 3
   },
   "file_extension": ".py",
   "mimetype": "text/x-python",
   "name": "python",
   "nbconvert_exporter": "python",
   "pygments_lexer": "ipython3",
   "version": "3.8.3"
  }
 },
 "nbformat": 4,
 "nbformat_minor": 2
}
